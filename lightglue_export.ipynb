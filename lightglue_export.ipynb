{
 "cells": [
  {
   "cell_type": "markdown",
   "metadata": {},
   "source": [
    "## Common"
   ]
  },
  {
   "cell_type": "code",
   "execution_count": 1,
   "metadata": {},
   "outputs": [
    {
     "name": "stdout",
     "output_type": "stream",
     "text": [
      "cuda\n"
     ]
    },
    {
     "name": "stderr",
     "output_type": "stream",
     "text": [
      "/mnt/ssd_1tb/PIXAR/Vizgard/superpoint_lightglue_libtorch/lightglue/lightglue.py:25: FutureWarning: `torch.cuda.amp.custom_fwd(args...)` is deprecated. Please use `torch.amp.custom_fwd(args..., device_type='cuda')` instead.\n",
      "  @torch.cuda.amp.custom_fwd(cast_inputs=torch.float32)\n"
     ]
    }
   ],
   "source": [
    "# pip3 install onnxruntime\n",
    "import lightglue\n",
    "import torch\n",
    "import cv2\n",
    "from time import time\n",
    "# import numpy as np\n",
    "# import onnxruntime as ort\n",
    "# import onnx\n",
    "\n",
    "# pip3 install tensorrt\n",
    "# import tensorrt as trt\n",
    "# from PIL import Image\n",
    "# import pycuda.driver as cuda\n",
    "# import pycuda.autoinit  # Initializes the first available GPU and sets up device context\n",
    "# print(trt.__version__)\n",
    "\n",
    "# providers=[\"CUDAExecutionProvider\", \"CPUExecutionProvider\"]\n",
    "\n",
    "torch.set_grad_enabled(False)\n",
    "device = torch.device(\"cuda\" if torch.cuda.is_available() else \"cpu\")  # 'mps', 'cpu'\n",
    "print(device)"
   ]
  },
  {
   "cell_type": "code",
   "execution_count": 2,
   "metadata": {},
   "outputs": [],
   "source": [
    "image0_path = \"assets/image0.png\"\n",
    "size0 = 512\n",
    "image1_path = \"assets/image1.png\"\n",
    "size1 = 512"
   ]
  },
  {
   "cell_type": "code",
   "execution_count": 3,
   "metadata": {},
   "outputs": [],
   "source": [
    "# Convert keypoints from PyTorch to OpenCV format\n",
    "def convert_to_cv_keypoints(keypoints: torch.Tensor, scale):\n",
    "    cv_keypoints = []\n",
    "    for kp in keypoints:\n",
    "        cv_keypoints.append(cv2.KeyPoint(kp[0].item()/scale[0], kp[1].item() / scale[1], 1))  # (x, y, size)\n",
    "    return cv_keypoints\n",
    "\n",
    "# Convert matches from PyTorch to OpenCV format\n",
    "def convert_to_cv_matches(matches):\n",
    "    cv_matches = []\n",
    "    for match in matches:\n",
    "        cv_matches.append(cv2.DMatch(match[0].item(), match[1].item(), 0))  # (queryIdx, trainIdx, distance)\n",
    "    return cv_matches"
   ]
  },
  {
   "cell_type": "markdown",
   "metadata": {},
   "source": [
    "## SuperPoint - LightGlue : Pytorch Demo"
   ]
  },
  {
   "cell_type": "code",
   "execution_count": 4,
   "metadata": {},
   "outputs": [],
   "source": [
    "extractor_pytorch = lightglue.SuperPoint().eval().to(device)  # load the extractor\n",
    "matcher_pytorch = lightglue.LightGlue(features=\"superpoint\").eval().to(device)"
   ]
  },
  {
   "cell_type": "code",
   "execution_count": 5,
   "metadata": {},
   "outputs": [],
   "source": [
    "def pytorch_infer(image0_path: str, image1_path: str, resize0: int = 512, resize1: int = 512) -> None:\n",
    "    start = time()\n",
    "    image0, scale0 = lightglue.utils.load_image(image0_path, resize=resize0)\n",
    "    image1, scale1 = lightglue.utils.load_image(image1_path, resize=resize1)\n",
    "\n",
    "    keypoints0, _, descriptors0 = extractor_pytorch(image0.to(device))\n",
    "    keypoints1, _, descriptors1 = extractor_pytorch(image1.to(device))\n",
    "    kn0 = resize0 / 2.0 # keypoint normalize\n",
    "    kn1 = resize1 / 2.0 # keypoint normalize\n",
    "    matches01, mscore01 = matcher_pytorch(((keypoints0 - kn0) / kn0), descriptors0, ((keypoints1 - kn1) / kn1), descriptors1)\n",
    "    print(type(matches01), type(mscore01))\n",
    "\n",
    "    # Draw matches on the images and save the result image\n",
    "    cv_kpts0 = convert_to_cv_keypoints(keypoints0[0], scale0)\n",
    "    cv_kpts1 = convert_to_cv_keypoints(keypoints1[0], scale1)\n",
    "    cv_matches = convert_to_cv_matches(matches01)\n",
    "    match_image = cv2.drawMatches(cv2.imread(image0_path), cv_kpts0, cv2.imread(image1_path), cv_kpts1, cv_matches, None)\n",
    "    end = time()\n",
    "    print(f\"Image0: {image0.shape}, Image1: {image1.shape}, Kpt0: {len(cv_kpts0)}, Kpt1: {len(cv_kpts1)}, Matches: {len(cv_matches)}, Inference time: {end - start:.2f} seconds\")\n",
    "\n",
    "    cv2.putText(img=match_image, text=f'Number of matches: {len(cv_matches)}', \n",
    "                org=(10, 30), \n",
    "                fontFace=cv2.FONT_HERSHEY_SIMPLEX,\n",
    "                fontScale=1,\n",
    "                color=(255, 255, 255),\n",
    "                thickness=3,\n",
    "                lineType=4)\n",
    "    cv2.imwrite(f\"match_result_image.png\", match_image)"
   ]
  },
  {
   "cell_type": "code",
   "execution_count": 6,
   "metadata": {},
   "outputs": [
    {
     "name": "stdout",
     "output_type": "stream",
     "text": [
      "<class 'torch.Tensor'> <class 'torch.Tensor'>\n",
      "Image0: torch.Size([1, 1, 384, 512]), Image1: torch.Size([1, 1, 384, 512]), Kpt0: 512, Kpt1: 512, Matches: 380, Inference time: 1.06 seconds\n"
     ]
    }
   ],
   "source": [
    "pytorch_infer(image0_path, image1_path, size0, size1)"
   ]
  },
  {
   "cell_type": "markdown",
   "metadata": {},
   "source": [
    "## Convert the PyTorch Model to TorchScript"
   ]
  },
  {
   "cell_type": "code",
   "execution_count": 7,
   "metadata": {},
   "outputs": [],
   "source": [
    "extractor_pytorch.eval()\n",
    "matcher_pytorch.eval()\n",
    "\n",
    "scripted_extractor = torch.jit.script(extractor_pytorch)\n",
    "scripted_extractor.save(\"weights/superpoint_scripted.pt\")\n",
    "\n",
    "scripted_matcher = torch.jit.script(matcher_pytorch)\n",
    "scripted_matcher.save(\"weights/lightglue_scripted.pt\")"
   ]
  }
 ],
 "metadata": {
  "kernelspec": {
   "display_name": "Python 3",
   "language": "python",
   "name": "python3"
  },
  "language_info": {
   "codemirror_mode": {
    "name": "ipython",
    "version": 3
   },
   "file_extension": ".py",
   "mimetype": "text/x-python",
   "name": "python",
   "nbconvert_exporter": "python",
   "pygments_lexer": "ipython3",
   "version": "3.11.12"
  }
 },
 "nbformat": 4,
 "nbformat_minor": 2
}
